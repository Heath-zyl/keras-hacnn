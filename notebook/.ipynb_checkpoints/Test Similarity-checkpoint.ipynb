{
 "cells": [
  {
   "cell_type": "code",
   "execution_count": 1,
   "metadata": {},
   "outputs": [
    {
     "name": "stderr",
     "output_type": "stream",
     "text": [
      "Using TensorFlow backend.\n"
     ]
    }
   ],
   "source": [
    "import os\n",
    "import sys\n",
    "import argparse\n",
    "import numpy as np\n",
    "import keras.preprocessing.image as image\n",
    "\n",
    "import sys\n",
    "sys.path.append('..')\n",
    "from models.siamese import network"
   ]
  },
  {
   "cell_type": "code",
   "execution_count": 2,
   "metadata": {
    "scrolled": true
   },
   "outputs": [
    {
     "name": "stdout",
     "output_type": "stream",
     "text": [
      "input_fmap Tensor(\"atrootinput_branch/Relu:0\", shape=(?, 80, 32, 32), dtype=float32)\n",
      "theta Tensor(\"lambda_1/local10transform_theta_b/concat:0\", shape=(?, 2, 3), dtype=float32)\n",
      "out_dims (80, 32)\n",
      "input_fmap Tensor(\"local10spatial_transform_a/Placeholder:0\", shape=(?, 80, 32, 32), dtype=float32)\n",
      "theta Tensor(\"lambda_1/local10transform_theta_b/concat:0\", shape=(?, 2, 3), dtype=float32)\n",
      "out_dims (80, 32)\n",
      "input_fmap Tensor(\"atrootinput_branch/Relu:0\", shape=(?, 80, 32, 32), dtype=float32)\n",
      "theta Tensor(\"lambda_2/local11transform_theta_b/concat:0\", shape=(?, 2, 3), dtype=float32)\n",
      "out_dims (80, 32)\n",
      "input_fmap Tensor(\"local11spatial_transform_a/Placeholder:0\", shape=(?, 80, 32, 32), dtype=float32)\n",
      "theta Tensor(\"lambda_2/local11transform_theta_b/concat:0\", shape=(?, 2, 3), dtype=float32)\n",
      "out_dims (80, 32)\n",
      "input_fmap Tensor(\"atrootinput_branch/Relu:0\", shape=(?, 80, 32, 32), dtype=float32)\n",
      "theta Tensor(\"lambda_3/local12transform_theta_b/concat:0\", shape=(?, 2, 3), dtype=float32)\n",
      "out_dims (80, 32)\n",
      "input_fmap Tensor(\"local12spatial_transform_a/Placeholder:0\", shape=(?, 80, 32, 32), dtype=float32)\n",
      "theta Tensor(\"lambda_3/local12transform_theta_b/concat:0\", shape=(?, 2, 3), dtype=float32)\n",
      "out_dims (80, 32)\n",
      "input_fmap Tensor(\"atrootinput_branch/Relu:0\", shape=(?, 80, 32, 32), dtype=float32)\n",
      "theta Tensor(\"lambda_4/local13transform_theta_b/concat:0\", shape=(?, 2, 3), dtype=float32)\n",
      "out_dims (80, 32)\n",
      "input_fmap Tensor(\"local13spatial_transform_a/Placeholder:0\", shape=(?, 80, 32, 32), dtype=float32)\n",
      "theta Tensor(\"lambda_4/local13transform_theta_b/concat:0\", shape=(?, 2, 3), dtype=float32)\n",
      "out_dims (80, 32)\n",
      "input_fmap Tensor(\"multiply_1/mul:0\", shape=(?, 40, 16, 128), dtype=float32)\n",
      "theta Tensor(\"lambda_5/local20transform_theta_b/concat:0\", shape=(?, 2, 3), dtype=float32)\n",
      "out_dims (40, 16)\n",
      "input_fmap Tensor(\"local20spatial_transform_a/Placeholder:0\", shape=(?, 40, 16, 128), dtype=float32)\n",
      "theta Tensor(\"lambda_5/local20transform_theta_b/concat:0\", shape=(?, 2, 3), dtype=float32)\n",
      "out_dims (40, 16)\n",
      "input_fmap Tensor(\"multiply_1/mul:0\", shape=(?, 40, 16, 128), dtype=float32)\n",
      "theta Tensor(\"lambda_6/local21transform_theta_b/concat:0\", shape=(?, 2, 3), dtype=float32)\n",
      "out_dims (40, 16)\n",
      "input_fmap Tensor(\"local21spatial_transform_a/Placeholder:0\", shape=(?, 40, 16, 128), dtype=float32)\n",
      "theta Tensor(\"lambda_6/local21transform_theta_b/concat:0\", shape=(?, 2, 3), dtype=float32)\n",
      "out_dims (40, 16)\n",
      "input_fmap Tensor(\"multiply_1/mul:0\", shape=(?, 40, 16, 128), dtype=float32)\n",
      "theta Tensor(\"lambda_7/local22transform_theta_b/concat:0\", shape=(?, 2, 3), dtype=float32)\n",
      "out_dims (40, 16)\n",
      "input_fmap Tensor(\"local22spatial_transform_a/Placeholder:0\", shape=(?, 40, 16, 128), dtype=float32)\n",
      "theta Tensor(\"lambda_7/local22transform_theta_b/concat:0\", shape=(?, 2, 3), dtype=float32)\n",
      "out_dims (40, 16)\n",
      "input_fmap Tensor(\"multiply_1/mul:0\", shape=(?, 40, 16, 128), dtype=float32)\n",
      "theta Tensor(\"lambda_8/local23transform_theta_b/concat:0\", shape=(?, 2, 3), dtype=float32)\n",
      "out_dims (40, 16)\n",
      "input_fmap Tensor(\"local23spatial_transform_a/Placeholder:0\", shape=(?, 40, 16, 128), dtype=float32)\n",
      "theta Tensor(\"lambda_8/local23transform_theta_b/concat:0\", shape=(?, 2, 3), dtype=float32)\n",
      "out_dims (40, 16)\n",
      "input_fmap Tensor(\"multiply_2/mul:0\", shape=(?, 20, 8, 256), dtype=float32)\n",
      "theta Tensor(\"lambda_9/local30transform_theta_b/concat:0\", shape=(?, 2, 3), dtype=float32)\n",
      "out_dims (20, 8)\n",
      "input_fmap Tensor(\"local30spatial_transform_a/Placeholder:0\", shape=(?, 20, 8, 256), dtype=float32)\n",
      "theta Tensor(\"lambda_9/local30transform_theta_b/concat:0\", shape=(?, 2, 3), dtype=float32)\n",
      "out_dims (20, 8)\n",
      "input_fmap Tensor(\"multiply_2/mul:0\", shape=(?, 20, 8, 256), dtype=float32)\n",
      "theta Tensor(\"lambda_10/local31transform_theta_b/concat:0\", shape=(?, 2, 3), dtype=float32)\n",
      "out_dims (20, 8)\n",
      "input_fmap Tensor(\"local31spatial_transform_a/Placeholder:0\", shape=(?, 20, 8, 256), dtype=float32)\n",
      "theta Tensor(\"lambda_10/local31transform_theta_b/concat:0\", shape=(?, 2, 3), dtype=float32)\n",
      "out_dims (20, 8)\n",
      "input_fmap Tensor(\"multiply_2/mul:0\", shape=(?, 20, 8, 256), dtype=float32)\n",
      "theta Tensor(\"lambda_11/local32transform_theta_b/concat:0\", shape=(?, 2, 3), dtype=float32)\n",
      "out_dims (20, 8)\n",
      "input_fmap Tensor(\"local32spatial_transform_a/Placeholder:0\", shape=(?, 20, 8, 256), dtype=float32)\n",
      "theta Tensor(\"lambda_11/local32transform_theta_b/concat:0\", shape=(?, 2, 3), dtype=float32)\n",
      "out_dims (20, 8)\n",
      "input_fmap Tensor(\"multiply_2/mul:0\", shape=(?, 20, 8, 256), dtype=float32)\n",
      "theta Tensor(\"lambda_12/local33transform_theta_b/concat:0\", shape=(?, 2, 3), dtype=float32)\n",
      "out_dims (20, 8)\n",
      "input_fmap Tensor(\"local33spatial_transform_a/Placeholder:0\", shape=(?, 20, 8, 256), dtype=float32)\n",
      "theta Tensor(\"lambda_12/local33transform_theta_b/concat:0\", shape=(?, 2, 3), dtype=float32)\n",
      "out_dims (20, 8)\n",
      "x_global (?, 512) Tensor(\"global4feature_d/Relu:0\", shape=(?, 512), dtype=float32)\n",
      "x_local (?, 512) Tensor(\"local4feature_e/Relu:0\", shape=(?, 512), dtype=float32)\n"
     ]
    },
    {
     "name": "stderr",
     "output_type": "stream",
     "text": [
      "../models/hacnn.py:394: UserWarning: Update your `Model` call to the Keras 2 API: `Model(inputs=Tensor(\"in..., outputs=Tensor(\"co...)`\n",
      "  model = KM.Model(input=input_image, output=KL.concatenate([x_global, x_local], axis=-1))\n"
     ]
    },
    {
     "name": "stdout",
     "output_type": "stream",
     "text": [
      "input_fmap Tensor(\"atrootinput_branch_1/Relu:0\", shape=(?, 80, 32, 32), dtype=float32)\n",
      "theta Tensor(\"lambda_13/local10transform_theta_b/concat:0\", shape=(?, 2, 3), dtype=float32)\n",
      "out_dims (80, 32)\n",
      "input_fmap Tensor(\"local10spatial_transform_a_1/Placeholder:0\", shape=(?, 80, 32, 32), dtype=float32)\n",
      "theta Tensor(\"lambda_13/local10transform_theta_b/concat:0\", shape=(?, 2, 3), dtype=float32)\n",
      "out_dims (80, 32)\n",
      "input_fmap Tensor(\"atrootinput_branch_1/Relu:0\", shape=(?, 80, 32, 32), dtype=float32)\n",
      "theta Tensor(\"lambda_14/local11transform_theta_b/concat:0\", shape=(?, 2, 3), dtype=float32)\n",
      "out_dims (80, 32)\n",
      "input_fmap Tensor(\"local11spatial_transform_a_1/Placeholder:0\", shape=(?, 80, 32, 32), dtype=float32)\n",
      "theta Tensor(\"lambda_14/local11transform_theta_b/concat:0\", shape=(?, 2, 3), dtype=float32)\n",
      "out_dims (80, 32)\n",
      "input_fmap Tensor(\"atrootinput_branch_1/Relu:0\", shape=(?, 80, 32, 32), dtype=float32)\n",
      "theta Tensor(\"lambda_15/local12transform_theta_b/concat:0\", shape=(?, 2, 3), dtype=float32)\n",
      "out_dims (80, 32)\n",
      "input_fmap Tensor(\"local12spatial_transform_a_1/Placeholder:0\", shape=(?, 80, 32, 32), dtype=float32)\n",
      "theta Tensor(\"lambda_15/local12transform_theta_b/concat:0\", shape=(?, 2, 3), dtype=float32)\n",
      "out_dims (80, 32)\n",
      "input_fmap Tensor(\"atrootinput_branch_1/Relu:0\", shape=(?, 80, 32, 32), dtype=float32)\n",
      "theta Tensor(\"lambda_16/local13transform_theta_b/concat:0\", shape=(?, 2, 3), dtype=float32)\n",
      "out_dims (80, 32)\n",
      "input_fmap Tensor(\"local13spatial_transform_a_1/Placeholder:0\", shape=(?, 80, 32, 32), dtype=float32)\n",
      "theta Tensor(\"lambda_16/local13transform_theta_b/concat:0\", shape=(?, 2, 3), dtype=float32)\n",
      "out_dims (80, 32)\n",
      "input_fmap Tensor(\"multiply_4/mul:0\", shape=(?, 40, 16, 128), dtype=float32)\n",
      "theta Tensor(\"lambda_17/local20transform_theta_b/concat:0\", shape=(?, 2, 3), dtype=float32)\n",
      "out_dims (40, 16)\n",
      "input_fmap Tensor(\"local20spatial_transform_a_1/Placeholder:0\", shape=(?, 40, 16, 128), dtype=float32)\n",
      "theta Tensor(\"lambda_17/local20transform_theta_b/concat:0\", shape=(?, 2, 3), dtype=float32)\n",
      "out_dims (40, 16)\n",
      "input_fmap Tensor(\"multiply_4/mul:0\", shape=(?, 40, 16, 128), dtype=float32)\n",
      "theta Tensor(\"lambda_18/local21transform_theta_b/concat:0\", shape=(?, 2, 3), dtype=float32)\n",
      "out_dims (40, 16)\n",
      "input_fmap Tensor(\"local21spatial_transform_a_1/Placeholder:0\", shape=(?, 40, 16, 128), dtype=float32)\n",
      "theta Tensor(\"lambda_18/local21transform_theta_b/concat:0\", shape=(?, 2, 3), dtype=float32)\n",
      "out_dims (40, 16)\n",
      "input_fmap Tensor(\"multiply_4/mul:0\", shape=(?, 40, 16, 128), dtype=float32)\n",
      "theta Tensor(\"lambda_19/local22transform_theta_b/concat:0\", shape=(?, 2, 3), dtype=float32)\n",
      "out_dims (40, 16)\n",
      "input_fmap Tensor(\"local22spatial_transform_a_1/Placeholder:0\", shape=(?, 40, 16, 128), dtype=float32)\n",
      "theta Tensor(\"lambda_19/local22transform_theta_b/concat:0\", shape=(?, 2, 3), dtype=float32)\n",
      "out_dims (40, 16)\n",
      "input_fmap Tensor(\"multiply_4/mul:0\", shape=(?, 40, 16, 128), dtype=float32)\n",
      "theta Tensor(\"lambda_20/local23transform_theta_b/concat:0\", shape=(?, 2, 3), dtype=float32)\n",
      "out_dims (40, 16)\n",
      "input_fmap Tensor(\"local23spatial_transform_a_1/Placeholder:0\", shape=(?, 40, 16, 128), dtype=float32)\n",
      "theta Tensor(\"lambda_20/local23transform_theta_b/concat:0\", shape=(?, 2, 3), dtype=float32)\n",
      "out_dims (40, 16)\n",
      "input_fmap Tensor(\"multiply_5/mul:0\", shape=(?, 20, 8, 256), dtype=float32)\n",
      "theta Tensor(\"lambda_21/local30transform_theta_b/concat:0\", shape=(?, 2, 3), dtype=float32)\n",
      "out_dims (20, 8)\n",
      "input_fmap Tensor(\"local30spatial_transform_a_1/Placeholder:0\", shape=(?, 20, 8, 256), dtype=float32)\n",
      "theta Tensor(\"lambda_21/local30transform_theta_b/concat:0\", shape=(?, 2, 3), dtype=float32)\n",
      "out_dims (20, 8)\n",
      "input_fmap Tensor(\"multiply_5/mul:0\", shape=(?, 20, 8, 256), dtype=float32)\n",
      "theta Tensor(\"lambda_22/local31transform_theta_b/concat:0\", shape=(?, 2, 3), dtype=float32)\n",
      "out_dims (20, 8)\n",
      "input_fmap Tensor(\"local31spatial_transform_a_1/Placeholder:0\", shape=(?, 20, 8, 256), dtype=float32)\n",
      "theta Tensor(\"lambda_22/local31transform_theta_b/concat:0\", shape=(?, 2, 3), dtype=float32)\n",
      "out_dims (20, 8)\n",
      "input_fmap Tensor(\"multiply_5/mul:0\", shape=(?, 20, 8, 256), dtype=float32)\n",
      "theta Tensor(\"lambda_23/local32transform_theta_b/concat:0\", shape=(?, 2, 3), dtype=float32)\n",
      "out_dims (20, 8)\n",
      "input_fmap Tensor(\"local32spatial_transform_a_1/Placeholder:0\", shape=(?, 20, 8, 256), dtype=float32)\n",
      "theta Tensor(\"lambda_23/local32transform_theta_b/concat:0\", shape=(?, 2, 3), dtype=float32)\n",
      "out_dims (20, 8)\n",
      "input_fmap Tensor(\"multiply_5/mul:0\", shape=(?, 20, 8, 256), dtype=float32)\n",
      "theta Tensor(\"lambda_24/local33transform_theta_b/concat:0\", shape=(?, 2, 3), dtype=float32)\n",
      "out_dims (20, 8)\n",
      "input_fmap Tensor(\"local33spatial_transform_a_1/Placeholder:0\", shape=(?, 20, 8, 256), dtype=float32)\n",
      "theta Tensor(\"lambda_24/local33transform_theta_b/concat:0\", shape=(?, 2, 3), dtype=float32)\n",
      "out_dims (20, 8)\n",
      "x_global (?, 512) Tensor(\"global4feature_d_1/Relu:0\", shape=(?, 512), dtype=float32)\n",
      "x_local (?, 512) Tensor(\"local4feature_e_1/Relu:0\", shape=(?, 512), dtype=float32)\n"
     ]
    }
   ],
   "source": [
    "model = network('/Users/luke/Documents/ml_models/person-reid/ha-cnn-keras/similarity/hacnn_videotag_epoch_02_loss_0.21001.h5')"
   ]
  },
  {
   "cell_type": "code",
   "execution_count": 5,
   "metadata": {},
   "outputs": [],
   "source": [
    "def predict(image_paths_1, image_paths_2, size=(160,64)):\n",
    "    images_1 = []\n",
    "    images_2 = []    \n",
    "    \n",
    "    for path in image_paths_1:\n",
    "        img = image.load_img(path, target_size=size)\n",
    "        img = image.img_to_array(img)\n",
    "        images_1.append(img)\n",
    "        \n",
    "    for path in image_paths_2:\n",
    "        img = image.load_img(path, target_size=size)\n",
    "        img = image.img_to_array(img)\n",
    "        images_2.append(img)\n",
    "    \n",
    "    prediction = model.predict([images_1, images_2], verbose=0)\n",
    "    print('prediction', prediction)\n",
    "    print(bool(not np.argmax(prediction)))"
   ]
  },
  {
   "cell_type": "code",
   "execution_count": 6,
   "metadata": {},
   "outputs": [
    {
     "name": "stdout",
     "output_type": "stream",
     "text": [
      "prediction [[0.5863845  0.41361555]\n",
      " [0.89604264 0.10395733]\n",
      " [0.63054365 0.36945638]\n",
      " [0.5863845  0.41361555]]\n",
      "True\n"
     ]
    }
   ],
   "source": [
    "image_path_1 = [\n",
    "    '/Users/luke/Documents/ml_datasets/person_re_id/videotag_scene/dataset_7/bounding_box_test/0007_0120.jpg',\n",
    "    '/Users/luke/Documents/ml_datasets/person_re_id/videotag_scene/dataset_7/bounding_box_test/0007_0120.jpg',\n",
    "    '/Users/luke/Documents/ml_datasets/person_re_id/videotag_scene/dataset_7/bounding_box_test/0007_0120.jpg',\n",
    "    '/Users/luke/Documents/ml_datasets/person_re_id/videotag_scene/dataset_7/bounding_box_test/0007_0120.jpg'    \n",
    "]\n",
    "image_path_2 = [\n",
    "    '/Users/luke/Documents/ml_datasets/person_re_id/videotag_scene/dataset_7/bounding_box_test/0007_0068.jpg',\n",
    "    '/Users/luke/Documents/ml_datasets/person_re_id/videotag_scene/dataset_7/bounding_box_test/0018_0094.jpg',\n",
    "    '/Users/luke/Documents/ml_datasets/person_re_id/videotag_scene/dataset_7/bounding_box_test/0010_0078.jpg',\n",
    "    '/Users/luke/Documents/ml_datasets/person_re_id/videotag_scene/dataset_7/bounding_box_test/0007_0068.jpg'\n",
    "]\n",
    "predict(image_path_1, image_path_2)"
   ]
  },
  {
   "cell_type": "code",
   "execution_count": null,
   "metadata": {},
   "outputs": [],
   "source": []
  }
 ],
 "metadata": {
  "kernelspec": {
   "display_name": "Python 3",
   "language": "python",
   "name": "python3"
  },
  "language_info": {
   "codemirror_mode": {
    "name": "ipython",
    "version": 3
   },
   "file_extension": ".py",
   "mimetype": "text/x-python",
   "name": "python",
   "nbconvert_exporter": "python",
   "pygments_lexer": "ipython3",
   "version": "3.6.5"
  }
 },
 "nbformat": 4,
 "nbformat_minor": 2
}
