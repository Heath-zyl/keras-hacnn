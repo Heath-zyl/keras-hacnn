{
 "cells": [
  {
   "cell_type": "code",
   "execution_count": 1,
   "metadata": {},
   "outputs": [
    {
     "name": "stderr",
     "output_type": "stream",
     "text": [
      "Using TensorFlow backend.\n"
     ]
    }
   ],
   "source": [
    "import os\n",
    "import sys\n",
    "import argparse\n",
    "import numpy as np\n",
    "import keras.preprocessing.image as image\n",
    "\n",
    "import sys\n",
    "sys.path.append('..')\n",
    "import models.hacnn as modellib\n",
    "import data_manager\n",
    "from data_generator import DataGenerator"
   ]
  },
  {
   "cell_type": "markdown",
   "metadata": {},
   "source": [
    "# Market1501"
   ]
  },
  {
   "cell_type": "code",
   "execution_count": 10,
   "metadata": {},
   "outputs": [],
   "source": [
    "dataset_path = '/Users/luke/Documents/ml_datasets/person_re_id/market1501'\n",
    "dataset_type = 'market1501'\n",
    "batch_size = 32\n",
    "height = 160\n",
    "width = 64\n",
    "learn_region = 1\n",
    "model_path = '/Users/luke/Documents/ml_models/person-reid/ha-cnn-keras/categorize/market1501/hacnn_market1501_epoch_70_loss_0.02555.h5'"
   ]
  },
  {
   "cell_type": "markdown",
   "metadata": {},
   "source": [
    "# VIDEOtag"
   ]
  },
  {
   "cell_type": "code",
   "execution_count": 12,
   "metadata": {},
   "outputs": [],
   "source": [
    "dataset_path = '/Users/luke/Documents/ml_datasets/person_re_id/videotag_scene/dataset_7'\n",
    "dataset_type = 'videotag'\n",
    "batch_size = 32\n",
    "height = 160\n",
    "width = 64\n",
    "learn_region = 1\n",
    "# model_path = '/Users/luke/Documents/ml_models/person-reid/ha-cnn-keras/categorize/snapshot_new/videotag_62.h5'\n",
    "model_path = '/Users/luke/Documents/ml_models/person-reid/ha-cnn-keras/categorize/videotag/global_local/hacnn_videotag_epoch_15_loss_0.01121.h5'"
   ]
  },
  {
   "cell_type": "code",
   "execution_count": 13,
   "metadata": {
    "scrolled": true
   },
   "outputs": [
    {
     "name": "stdout",
     "output_type": "stream",
     "text": [
      "train 3 382 32084\n",
      "=> VIDEOtag loaded\n",
      "Dataset statistics:\n",
      "  ------------------------------\n",
      "  subset   | # ids | # images\n",
      "  ------------------------------\n",
      "  train    |   382 |    32084\n",
      "  query    |   363 |      726\n",
      "  gallery  |   363 |    30177\n",
      "  ------------------------------\n",
      "  total    |   745 |    62987\n",
      "  ------------------------------\n"
     ]
    }
   ],
   "source": [
    "dataset = data_manager.init_imgreid_dataset(\n",
    "    dataset_path=dataset_path, name=dataset_type\n",
    ")\n",
    "\n",
    "model = modellib.HACNN(mode='training', \n",
    "                        num_classes=dataset.num_train_pids, \n",
    "                        batch_size=batch_size, \n",
    "                        learn_region=learn_region).model\n",
    "\n",
    "model.load_weights(model_path, by_name=True, skip_mismatch=False)"
   ]
  },
  {
   "cell_type": "code",
   "execution_count": 5,
   "metadata": {},
   "outputs": [],
   "source": [
    "def predict(image_paths, size=(160,64)):\n",
    "    images = []\n",
    "    \n",
    "    for path in image_paths:\n",
    "        img = image.load_img(path, target_size=size)\n",
    "        img = image.img_to_array(img)\n",
    "        images.append(img)\n",
    "        \n",
    "    prediction = model.predict([images], verbose=0)\n",
    "    \n",
    "    global_results, local_results = prediction\n",
    "    for g, l in zip(global_results, local_results):\n",
    "        print(np.argmax(g), np.argmax(l))\n",
    "    "
   ]
  },
  {
   "cell_type": "markdown",
   "metadata": {},
   "source": [
    "# Test Market1501 Image"
   ]
  },
  {
   "cell_type": "code",
   "execution_count": 62,
   "metadata": {},
   "outputs": [
    {
     "name": "stdout",
     "output_type": "stream",
     "text": [
      "77 144\n",
      "77 108\n",
      "100 275\n",
      "6 48\n",
      "282 243\n"
     ]
    }
   ],
   "source": [
    "image_paths = [\n",
    "    '/Users/luke/Documents/ml_datasets/person_re_id/market1501/bounding_box_train/0002_c1s1_000451_03.jpg',\n",
    "    '/Users/luke/Documents/ml_datasets/person_re_id/market1501/bounding_box_train/0002_c1s2_050821_02.jpg',\n",
    "    '/Users/luke/Documents/ml_datasets/person_re_id/market1501/bounding_box_train/0002_c5s1_000776_01.jpg',\n",
    "    '/Users/luke/Documents/ml_datasets/person_re_id/market1501/bounding_box_train/0035_c4s1_003226_01.jpg',\n",
    "    '/Users/luke/Documents/ml_datasets/person_re_id/market1501/bounding_box_train/0064_c2s1_008351_02.jpg' \n",
    "]\n",
    "predict(image_paths)"
   ]
  },
  {
   "cell_type": "markdown",
   "metadata": {},
   "source": [
    "# Test VIDEOtag Image"
   ]
  },
  {
   "cell_type": "code",
   "execution_count": 14,
   "metadata": {},
   "outputs": [
    {
     "name": "stdout",
     "output_type": "stream",
     "text": [
      "381 153\n",
      "374 374\n",
      "356 92\n",
      "127 166\n",
      "214 243\n",
      "124 124\n",
      "70 259\n",
      "65 65\n",
      "25 220\n"
     ]
    }
   ],
   "source": [
    "image_paths = [\n",
    "    '/Users/luke/Documents/ml_datasets/person_re_id/videotag_scene/dataset_7/bounding_box_train/0381_0100.jpg',\n",
    "    '/Users/luke/Documents/ml_datasets/person_re_id/videotag_scene/dataset_7/bounding_box_train/0374_0026.jpg',\n",
    "    '/Users/luke/Documents/ml_datasets/person_re_id/videotag_scene/dataset_7/bounding_box_train/0356_0100.jpg',\n",
    "    '/Users/luke/Documents/ml_datasets/person_re_id/videotag_scene/dataset_7/bounding_box_train/0127_0762.jpg',\n",
    "    '/Users/luke/Documents/ml_datasets/person_re_id/videotag_scene/dataset_7/bounding_box_train/0214_0000.jpg',\n",
    "    '/Users/luke/Documents/ml_datasets/person_re_id/videotag_scene/dataset_7/bounding_box_train/0124_0026.jpg',\n",
    "    '/Users/luke/Documents/ml_datasets/person_re_id/videotag_scene/dataset_7/bounding_box_train/0070_0098.jpg',\n",
    "    '/Users/luke/Documents/ml_datasets/person_re_id/videotag_scene/dataset_7/bounding_box_train/0065_0040.jpg',\n",
    "    '/Users/luke/Documents/ml_datasets/person_re_id/videotag_scene/dataset_7/bounding_box_train/0025_0060.jpg'\n",
    "]\n",
    "predict(image_paths)"
   ]
  },
  {
   "cell_type": "code",
   "execution_count": null,
   "metadata": {},
   "outputs": [],
   "source": []
  }
 ],
 "metadata": {
  "kernelspec": {
   "display_name": "Python 3",
   "language": "python",
   "name": "python3"
  },
  "language_info": {
   "codemirror_mode": {
    "name": "ipython",
    "version": 3
   },
   "file_extension": ".py",
   "mimetype": "text/x-python",
   "name": "python",
   "nbconvert_exporter": "python",
   "pygments_lexer": "ipython3",
   "version": "3.6.5"
  }
 },
 "nbformat": 4,
 "nbformat_minor": 2
}
